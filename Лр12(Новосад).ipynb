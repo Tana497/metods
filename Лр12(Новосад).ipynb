{
  "nbformat": 4,
  "nbformat_minor": 0,
  "metadata": {
    "colab": {
      "provenance": []
    },
    "kernelspec": {
      "name": "python3",
      "display_name": "Python 3"
    },
    "language_info": {
      "name": "python"
    }
  },
  "cells": [
    {
      "cell_type": "markdown",
      "source": [
        "# Лабораторна робота №12\n",
        "\n",
        "Варіант 19\n",
        "\n",
        "Новосад Тетняа ФІТ 2-8"
      ],
      "metadata": {
        "id": "pp0oy9VpcXSS"
      }
    },
    {
      "cell_type": "markdown",
      "source": [
        "### Завдання 1\n",
        "Метод прямокутників"
      ],
      "metadata": {
        "id": "04SNLhCSZTC8"
      }
    },
    {
      "cell_type": "code",
      "execution_count": 6,
      "metadata": {
        "id": "rD2Hmxj6LZeN",
        "colab": {
          "base_uri": "https://localhost:8080/"
        },
        "outputId": "013de76d-a76a-4973-f374-490424f13a31"
      },
      "outputs": [
        {
          "output_type": "stream",
          "name": "stdout",
          "text": [
            "Лівий прямокутник: -0.53759\n",
            "Правильний прямокутник: -0.53759\n",
            "Середній прямокутник: -0.53759\n",
            "Перевірте метод прямокутника =  -0.53759\n"
          ]
        }
      ],
      "source": [
        "#Обчислення інтеграла методом прямокутників\n",
        "from scipy import integrate\n",
        "import numpy as np\n",
        "\n",
        "a = 2.5\n",
        "b = 1.3\n",
        "n = 10\n",
        "h = (b-a)/n\n",
        "def f1(x):\n",
        "    return (2/5 + 1/6) * (1 / np.sqrt(0/2 + 1.6))\n",
        "\n",
        "def left_rec(f1,a,b,n):\n",
        "    sum=0\n",
        "    for i in range(0,n):\n",
        "        sum+=f1(a+i*h)\n",
        "    return sum*h\n",
        "print(\"Лівий прямокутник:\",round (left_rec(f1,a,b,10), 5))\n",
        "\n",
        "def right_rec(f1,a,b,n):\n",
        "    sum=0\n",
        "    for i in range(1,n + 1):\n",
        "        sum+=f1(a + i*h)\n",
        "    return sum*h\n",
        "print(\"Правильний прямокутник:\",round (right_rec(f1,a,b,10), 5))\n",
        "\n",
        "def aver_rec(f1,a,b,n):\n",
        "    h2 = h/2\n",
        "    sum=0\n",
        "    for i in range(0,n):\n",
        "        sum+=f1(a+i*h)\n",
        "    return sum*h\n",
        "print(\"Середній прямокутник:\",round (aver_rec(f1,a,b,10), 5))\n",
        "\n",
        "v,err = integrate.quad(f1,a,b)#Перевірка\n",
        "print(\"Перевірте метод прямокутника = \",round (v, 5))\n"
      ]
    },
    {
      "cell_type": "markdown",
      "source": [
        "### Завдання 2\n",
        "метод Симпсона"
      ],
      "metadata": {
        "id": "3b9Y-APIZNjl"
      }
    },
    {
      "cell_type": "code",
      "source": [
        "#Обчислення інтеграла методом Симпсона\n",
        "from scipy import integrate\n",
        "import numpy as np\n",
        "\n",
        "# Задаємо функцію, яку необхідно інтегрувати\n",
        "def f(x):\n",
        "    return ((np.log(x**2 + 0.8))/2 * x) * 1\n",
        "\n",
        "# Задаємо межі інтегрування та початкову кількість розбиттів\n",
        "a = 3.3\n",
        "b = 2.5\n",
        "n = 8\n",
        "\n",
        "# Обчислюємо значення інтегралу методом Симпсона\n",
        "def simpson_rule(f, a, b, n):\n",
        "    h = (b - a) / n\n",
        "    integr = f(a) + f(b)\n",
        "    for i in range(1,n):\n",
        "        k = a + i*h\n",
        "        if i%2 == 0:\n",
        "            integr += 2 * f(k)\n",
        "        else:\n",
        "            integr += 4 * f(k)\n",
        "    integr *= h/3\n",
        "    return integr\n",
        "\n",
        "\n",
        "# Виводимо результат\n",
        "print(\"Метод Сімпсона:\", round(simpson_rule(f, a, b, n), 3))\n",
        "\n",
        "v,err = integrate.quad(f,a,b)#Перевірка\n",
        "print(\"Перевірте метод Сімпсона = \",round(v, 3))\n"
      ],
      "metadata": {
        "colab": {
          "base_uri": "https://localhost:8080/"
        },
        "id": "BFxkB22BZHSD",
        "outputId": "0db5cb08-8003-4b0d-9cea-fa287b8eb2fd"
      },
      "execution_count": 14,
      "outputs": [
        {
          "output_type": "stream",
          "name": "stdout",
          "text": [
            "Метод Сімпсона: -2.583\n",
            "Перевірте метод Сімпсона =  -2.583\n"
          ]
        }
      ]
    },
    {
      "cell_type": "markdown",
      "source": [
        "### Завдання 3"
      ],
      "metadata": {
        "id": "IokMDxSXclgU"
      }
    },
    {
      "cell_type": "code",
      "source": [
        "#Обчислення інтегралу методом трапецій\n",
        "from scipy import integrate\n",
        "import numpy as np\n",
        "\n",
        "# Задаємо функцію, яку необхідно інтегрувати\n",
        "def f(x):\n",
        "    return 1 / (np.sqrt(x**2 + 0.6))\n",
        "\n",
        "# Задаємо межі інтегрування та початкову кількість розбиттів\n",
        "a = 1.3\n",
        "b = 0.5\n",
        "n = 20\n",
        "\n",
        "# Обчислюємо значення інтегралу методом трапецій\n",
        "def trapezoidal_rule(f, a, b, n):\n",
        "    h = (b - a) / n\n",
        "    sum = 0.5 * (f(a) + f(b))\n",
        "    x = a\n",
        "    for i in range(1, n):\n",
        "        x += h\n",
        "        sum += f(x)\n",
        "    integral = h * sum\n",
        "    return integral\n",
        "\n",
        "# Виводимо результат методу трапецій\n",
        "integral = trapezoidal_rule(f, a, b, n)\n",
        "print(\"Результат методу трапеції:\", round(integral, 5))\n",
        "\n",
        "# Перевірка за допомогою вбудованої функції\n",
        "v, err = integrate.quad(f, a, b)\n",
        "print(\"Перевірте за допомогою методу SciPy quad:\", round(v, 5))\n"
      ],
      "metadata": {
        "colab": {
          "base_uri": "https://localhost:8080/"
        },
        "id": "7cGv4dhcZ-UP",
        "outputId": "f187c0d7-8001-4acb-eb36-523a037397dc"
      },
      "execution_count": 22,
      "outputs": [
        {
          "output_type": "stream",
          "name": "stdout",
          "text": [
            "Результат методу трапеції: -0.68235\n",
            "Перевірте за допомогою методу SciPy quad: -0.68232\n"
          ]
        }
      ]
    }
  ]
}